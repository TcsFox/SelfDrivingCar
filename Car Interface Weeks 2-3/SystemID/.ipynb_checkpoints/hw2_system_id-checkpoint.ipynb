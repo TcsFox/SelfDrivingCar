{
 "cells": [
  {
   "cell_type": "code",
   "execution_count": 1,
   "metadata": {},
   "outputs": [],
   "source": [
    "import sys\n",
    "sys.path.append('../')\n",
    "\n",
    "import controller\n",
    "import numpy as np\n",
    "import matplotlib.pyplot as plt\n",
    "from sklearn.linear_model import LinearRegression"
   ]
  },
  {
   "cell_type": "code",
   "execution_count": 30,
   "metadata": {
    "scrolled": true
   },
   "outputs": [
    {
     "name": "stdout",
     "output_type": "stream",
     "text": [
      "accelerate 16.13%\n",
      "accelerate 86.46%\n",
      "brake 95.12%\n",
      "brake 86.10%\n",
      "brake 95.16%\n",
      "brake 60.02%\n",
      "accelerate 28.08%\n",
      "accelerate 90.20%\n",
      "brake 64.60%\n",
      "brake 19.43%\n"
     ]
    }
   ],
   "source": [
    "np.random.seed(149)\n",
    "\n",
    "ci = controller.Car_Interface()\n",
    "\n",
    "ci.set_gear(ci.FORWARD)\n",
    "\n",
    "def apply_alternating_controls(ci, num, time_per):\n",
    "\n",
    "    commands = []\n",
    "    cmdtype = [ci.BRAKE, ci.ACCELERATOR]\n",
    "    cmd_name = ['brake', 'accelerate']\n",
    "    \n",
    "    \n",
    "\n",
    "    '''\n",
    "    commands should be a list of tuples (cmd_type, amt) where\n",
    "    cmd_type is either 'accelerate' or 'brake' and amt is a\n",
    "    random number between 0 and 1 that denotes how much the\n",
    "    corresponding pedal was depressed.\n",
    "    \n",
    "    In total there should be num commands and each should\n",
    "    be executed for time_per seconds.  The car interface log\n",
    "    will be used later for accessing the data, so make sure\n",
    "    to actually execute the commands on the vehicle.\n",
    "    (see controller.py)\n",
    "    '''\n",
    "    \n",
    "    #CODE HERE\n",
    "    for i in range(num):\n",
    "        cmd = np.random.randint(0,2)\n",
    "        \n",
    "        amt = np.random.random()\n",
    "        commands.append((cmd_name[cmd], amt))\n",
    "        ci.apply_control_for_time(cmdtype[cmd], amt, time_per)\n",
    "        ci.log_data()\n",
    "    return commands\n",
    "\n",
    "\n",
    "N = 20\n",
    "TIME_PER = 50\n",
    "commands = apply_alternating_controls(ci, num = N, time_per = TIME_PER)\n",
    "\n",
    "for i in range(10):\n",
    "    print(commands[i][0], f\"{commands[i][1] * 100:.2f}%\")"
   ]
  },
  {
   "cell_type": "code",
   "execution_count": 31,
   "metadata": {},
   "outputs": [
    {
     "data": {
      "image/png": "[encoded data removed]",
      "text/plain": [
       "<Figure size 432x288 with 1 Axes>"
      ]
     },
     "metadata": {
      "needs_background": "light"
     },
     "output_type": "display_data"
    },
    {
     "name": "stdout",
     "output_type": "stream",
     "text": [
      "Actual Coefficients:\n",
      "rolling bias: 0.01\n",
      "friction: 0.11\n",
      "accel_weight: 0.1\n",
      "brake_weight: -0.25\n",
      "___________________________________________\n"
     ]
    }
   ],
   "source": [
    "vel_log = ci.log[\"velocity\"]\n",
    "acc_log = ci.log[\"acceleration\"]\n",
    "time_log = ci.log[\"time\"]\n",
    "\n",
    "NUM_READINGS = len(time_log)\n",
    "NUM_READINGS_PER = int(NUM_READINGS / N)\n",
    "\n",
    "filt_times = []\n",
    "filt_inps = []\n",
    "filt_outs = []\n",
    "\n",
    "all_times = []\n",
    "all_inps = []\n",
    "all_outs = []\n",
    "\n",
    "for i in range(NUM_READINGS):\n",
    "    cmd = commands[int(i / NUM_READINGS_PER)]\n",
    "    vel = vel_log[i]\n",
    "    acc = acc_log[i]\n",
    "    t = time_log[i]\n",
    "    inp = [0,0,0]\n",
    "\n",
    "    if (cmd[0] == 'accelerate'):\n",
    "        '''\n",
    "        inp = ? should be a list of length 3 corresponding\n",
    "        to the three input variable in the linear equation\n",
    "        for determining acceleration\n",
    "        '''\n",
    "        inp = [cmd[1], 0, vel]\n",
    "    elif(cmd[0] == 'brake'):\n",
    "        '''\n",
    "        inp = ? remember to order input variables exactly\n",
    "        as done in the previous statement\n",
    "        '''\n",
    "        inp = [0, cmd[1], vel]\n",
    "\n",
    "    all_inps.append(inp)\n",
    "    all_outs.append(acc)\n",
    "    all_times.append(t)\n",
    "\n",
    "    '''\n",
    "    At first you can leave this code section blank.\n",
    "    Once you run Linear Regression on the basic inputs\n",
    "    and outputs you will notice the regression struggles to\n",
    "    accurately model data.  Here you will populate the filtered\n",
    "    lists (filt_inps, filt_outs, filt_times) similar to how\n",
    "    the all lists are populate above, but censoring out certain\n",
    "    (input, output) data points that are undesirable.\n",
    "    '''\n",
    "    #CODE HERE\n",
    "    \n",
    "    if inp != [0,0,0] :\n",
    "        filt_inps.append(inp)\n",
    "\n",
    "\n",
    "\n",
    "plt.title(\"Collected Data\")\n",
    "plt.xlabel(\"Time\")\n",
    "plt.ylabel(\"Acceleration\")\n",
    "plt.scatter(all_times, all_outs, color = 'b')\n",
    "plt.show()\n",
    "\n",
    "print(f\"Actual Coefficients:\")\n",
    "'''\n",
    "Fill in the blanks in the next 4 lines with\n",
    "reasonable names for the 4 coefficients and\n",
    "in the curly braces put the corresponding\n",
    "variable name to display it.  The variables\n",
    "should attributes of the car interface object\n",
    "that correspond to those in the linear\n",
    "equation presented in class.\n",
    "'''\n",
    "print(f\"rolling bias: {ci.rolling_bias}\")\n",
    "print(f\"friction: {ci.friction_constant}\")\n",
    "print(f\"accel_weight: {ci.accelerator_weight}\")\n",
    "print(f\"brake_weight: {ci.brake_weight}\")\n",
    "print(\"___________________________________________\")"
   ]
  },
  {
   "cell_type": "code",
   "execution_count": 36,
   "metadata": {},
   "outputs": [
    {
     "name": "stdout",
     "output_type": "stream",
     "text": [
      "[ 0.13941857 -0.01709543 -0.15309975] | 0.009978312707894071\n",
      "Model Fit 0.5615940482594706\n",
      "Model Predictions:\n",
      ": \n",
      "_______: \n",
      "_______: \n",
      "_______: \n",
      "___________________________________________\n"
     ]
    },
    {
     "data": {
      "image/png": "[encoded data removed]",
      "text/plain": [
       "<Figure size 432x288 with 1 Axes>"
      ]
     },
     "metadata": {
      "needs_background": "light"
     },
     "output_type": "display_data"
    }
   ],
   "source": [
    "model = LinearRegression()\n",
    "\n",
    "\n",
    "'''\n",
    "First fit the model with the generated data.\n",
    "Then assign fit_score to sklearn LinearRegression\n",
    "score function.  Finally retrieve the learned coefficients.\n",
    "There should be 4, 3 linear dependencies and one constant.\n",
    "(See the coef_ and intercept_ attributes in the LinearRegression\n",
    "documentation)\n",
    "'''\n",
    "\n",
    "#CODE HERE\n",
    "model.fit(all_inps, all_outs)\n",
    "fit_score = model.score(all_inps, all_outs)\n",
    "coef = model.coef_\n",
    "const = model.intercept_\n",
    "print(str(coef) + \" | \" + str(const))\n",
    "\n",
    "print(f\"Model Fit {fit_score}\")\n",
    "print(f\"Model Predictions:\")\n",
    "'''\n",
    "Fill in the blanks in the next 4 lines with\n",
    "reasonable names for the 4 coefficients and\n",
    "in the curly braces put the corresponding\n",
    "variable name to display it\n",
    "'''\n",
    "print(f\": {_}\")\n",
    "print(f\"_______: {_}\")\n",
    "print(f\"_______: {_}\")\n",
    "print(f\"_______: {_}\")\n",
    "\n",
    "\n",
    "print(\"___________________________________________\")\n",
    "\n",
    "plt.clf()\n",
    "plt.title(\"Model Predictions on all Data\")\n",
    "plt.xlabel(\"Time\")\n",
    "plt.ylabel(\"Acceleration\")\n",
    "plt.scatter(all_times, all_outs, color = 'b')\n",
    "plt.scatter(all_times, model.predict(all_inps), color = 'r')\n",
    "plt.show()"
   ]
  },
  {
   "cell_type": "code",
   "execution_count": 5,
   "metadata": {},
   "outputs": [
    {
     "ename": "NameError",
     "evalue": "name 'fit_score' is not defined",
     "output_type": "error",
     "traceback": [
      "\u001b[0;31m---------------------------------------------------------------------------\u001b[0m",
      "\u001b[0;31mNameError\u001b[0m                                 Traceback (most recent call last)",
      "\u001b[0;32m<ipython-input-5-8c3cd1dbde93>\u001b[0m in \u001b[0;36m<module>\u001b[0;34m\u001b[0m\n\u001b[1;32m      8\u001b[0m '''\n\u001b[1;32m      9\u001b[0m \u001b[0;34m\u001b[0m\u001b[0m\n\u001b[0;32m---> 10\u001b[0;31m \u001b[0mprint\u001b[0m\u001b[0;34m(\u001b[0m\u001b[0;34mf\"Model Fit {fit_score}\"\u001b[0m\u001b[0;34m)\u001b[0m\u001b[0;34m\u001b[0m\u001b[0m\n\u001b[0m\u001b[1;32m     11\u001b[0m '''\n\u001b[1;32m     12\u001b[0m \u001b[0mFill\u001b[0m \u001b[0;32min\u001b[0m \u001b[0mthe\u001b[0m \u001b[0mblanks\u001b[0m \u001b[0;32mas\u001b[0m \u001b[0;32min\u001b[0m \u001b[0mthe\u001b[0m \u001b[0mprevious\u001b[0m \u001b[0msection\u001b[0m\u001b[0;34m\u001b[0m\u001b[0m\n",
      "\u001b[0;31mNameError\u001b[0m: name 'fit_score' is not defined"
     ]
    }
   ],
   "source": [
    "    '''\n",
    "First fit the model with the filtered generated data.\n",
    "Then assign fit_score to sklearn LinearRegression\n",
    "score function.  Finally retrieve the learned coefficients.\n",
    "There should be 4, 3 linear dependencies and one constant.\n",
    "Code should be similar to the previous section but now using\n",
    "the filtered data.\n",
    "'''\n",
    "\n",
    "print(f\"Model Fit {fit_score}\")\n",
    "'''\n",
    "Fill in the blanks as in the previous section\n",
    "'''\n",
    "print(f\"_______: {_}\")\n",
    "print(f\"_______: {_}\")\n",
    "print(f\"_______: {_}\")\n",
    "print(f\"_______: {_}\")\n",
    "\n",
    "\n",
    "\n",
    "print(\"___________________________________________\")\n",
    "\n",
    "plt.clf()\n",
    "plt.title(\"Filtered Data\")\n",
    "plt.scatter(filt_times, filt_outs, color = 'b')\n",
    "plt.xlabel(\"Time\")\n",
    "plt.ylabel(\"Acceleration\")\n",
    "plt.show()\n",
    "\n",
    "plt.clf()\n",
    "plt.title(\"Model Predictions on Filtered Data\")\n",
    "plt.xlabel(\"Time\")\n",
    "plt.ylabel(\"Acceleration\")\n",
    "plt.scatter(filt_times, filt_outs, color = 'b')\n",
    "plt.scatter(filt_times, model.predict(filt_inps), color = 'r')\n",
    "plt.show()"
   ]
  },
  {
   "cell_type": "code",
   "execution_count": null,
   "metadata": {},
   "outputs": [],
   "source": []
  }
 ],
 "metadata": {
  "kernelspec": {
   "display_name": "Python 3",
   "language": "python",
   "name": "python3"
  },
  "language_info": {
   "codemirror_mode": {
    "name": "ipython",
    "version": 3
   },
   "file_extension": ".py",
   "mimetype": "text/x-python",
   "name": "python",
   "nbconvert_exporter": "python",
   "pygments_lexer": "ipython3",
   "version": "3.6.3"
  }
 },
 "nbformat": 4,
 "nbformat_minor": 2
}
